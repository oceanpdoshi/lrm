{
 "cells": [
  {
   "cell_type": "markdown",
   "metadata": {},
   "source": [
    "# Data Processing Notebook for Pi Imaging 512S"
   ]
  },
  {
   "cell_type": "code",
   "execution_count": 20,
   "metadata": {},
   "outputs": [
    {
     "name": "stdout",
     "output_type": "stream",
     "text": [
      "Using matplotlib backend: QtAgg\n"
     ]
    }
   ],
   "source": [
    "import glob\n",
    "import matplotlib.pyplot as plt\n",
    "import numpy as np\n",
    "import os\n",
    "from PIL import Image\n",
    "\n",
    "from tqdm.notebook import tqdm\n",
    "\n",
    "%matplotlib"
   ]
  },
  {
   "cell_type": "code",
   "execution_count": 22,
   "metadata": {},
   "outputs": [],
   "source": [
    "data_dir = \"C:/Users/Sagar/Dropbox (MIT)/Radioimaging/Demo Images Pi Imaging 512S/07-26-2023/data/intensity_images/1hour_scintillator_on_10uCi\"\n",
    "os.chdir(data_dir)\n",
    "fnames = glob.glob('IMG0018*')"
   ]
  },
  {
   "cell_type": "code",
   "execution_count": 23,
   "metadata": {},
   "outputs": [
    {
     "name": "stdout",
     "output_type": "stream",
     "text": [
      "PNG\n",
      "(512, 512)\n",
      "L\n",
      "uint8\n",
      "(512, 512)\n"
     ]
    },
    {
     "data": {
      "text/plain": [
       "<matplotlib.image.AxesImage at 0x20080b3b640>"
      ]
     },
     "execution_count": 23,
     "metadata": {},
     "output_type": "execute_result"
    }
   ],
   "source": [
    "img = Image.open(fnames[0])\n",
    "print(img.format)\n",
    "print(img.size)\n",
    "print(img.mode)\n",
    "\n",
    "array = np.asarray(img)\n",
    "print(array.dtype)\n",
    "print(array.shape)\n",
    "\n",
    "plt.imshow(array, cmap='gray', vmin=0, vmax=255)"
   ]
  },
  {
   "cell_type": "code",
   "execution_count": 24,
   "metadata": {},
   "outputs": [
    {
     "data": {
      "application/vnd.jupyter.widget-view+json": {
       "model_id": "71a38d819618444093d3885936d34626",
       "version_major": 2,
       "version_minor": 0
      },
      "text/plain": [
       "  0%|          | 0/14400 [00:00<?, ?it/s]"
      ]
     },
     "metadata": {},
     "output_type": "display_data"
    }
   ],
   "source": [
    "img_shape = (512, 512)\n",
    "sum_arr = np.zeros(img_shape)\n",
    "\n",
    "N_images = len(fnames)\n",
    "\n",
    "for f in tqdm(fnames):\n",
    "    img = Image.open(f)\n",
    "    arr = np.asarray(img)\n",
    "    sum_arr += arr"
   ]
  },
  {
   "cell_type": "code",
   "execution_count": 25,
   "metadata": {},
   "outputs": [],
   "source": [
    "total_counts = np.sum(sum_arr)\n",
    "average_counts_per_px = total_counts / (512*512)"
   ]
  },
  {
   "cell_type": "code",
   "execution_count": 28,
   "metadata": {},
   "outputs": [
    {
     "data": {
      "text/plain": [
       "Text(0.5, 1.0, 'Scintillator on 10uCi Check Source\\n60min exposure\\ntotal_counts=8017639612.0\\naverage_counts_per_px_per_hour=30584.867904663086')"
      ]
     },
     "execution_count": 28,
     "metadata": {},
     "output_type": "execute_result"
    }
   ],
   "source": [
    "fig = plt.figure()\n",
    "ax = plt.imshow(sum_arr/N_images, cmap='viridis', vmin=0, vmax=255)\n",
    "fig.colorbar(ax, label=\"Counts/N_images, N_images=\"+str(N_images))\n",
    "plt.title('Scintillator on 10uCi Check Source\\n60min exposure\\ntotal_counts='+str(total_counts)+'\\naverage_counts_per_px_per_hour='+str(average_counts_per_px))"
   ]
  },
  {
   "cell_type": "code",
   "execution_count": 29,
   "metadata": {},
   "outputs": [
    {
     "data": {
      "text/plain": [
       "Text(0.5, 1.0, 'df image of Scintillator on 10uCi Check Source')"
      ]
     },
     "execution_count": 29,
     "metadata": {},
     "output_type": "execute_result"
    }
   ],
   "source": [
    "fig = plt.figure()\n",
    "df_img = Image.open('IMG0016-0000.png')\n",
    "df_arr = np.asarray(df_img)\n",
    "plt.imshow(df_img, cmap='viridis', vmin=0, vmax=255)\n",
    "plt.title('df image of Scintillator on 10uCi Check Source')"
   ]
  }
 ],
 "metadata": {
  "kernelspec": {
   "display_name": "poling-experiment",
   "language": "python",
   "name": "python3"
  },
  "language_info": {
   "codemirror_mode": {
    "name": "ipython",
    "version": 3
   },
   "file_extension": ".py",
   "mimetype": "text/x-python",
   "name": "python",
   "nbconvert_exporter": "python",
   "pygments_lexer": "ipython3",
   "version": "3.8.13"
  },
  "orig_nbformat": 4
 },
 "nbformat": 4,
 "nbformat_minor": 2
}
